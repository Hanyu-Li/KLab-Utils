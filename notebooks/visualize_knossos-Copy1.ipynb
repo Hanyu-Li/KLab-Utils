{
 "cells": [
  {
   "cell_type": "code",
   "execution_count": 35,
   "metadata": {},
   "outputs": [],
   "source": [
    "from knossos_utils import knossosdataset, skeleton\n",
    "import matplotlib.pyplot as plt\n",
    "import numpy as np\n",
    "import neuroglancer\n",
    "import os\n",
    "import dxchange\n",
    "%matplotlib notebook"
   ]
  },
  {
   "cell_type": "code",
   "execution_count": 30,
   "metadata": {},
   "outputs": [
    {
     "name": "stderr",
     "output_type": "stream",
     "text": [
      "/home/ravescovi/anaconda3/lib/python3.7/site-packages/knossos_utils/knossosdataset.py:1100: UserWarning: You are using implicit channel selection. This possibility will soon be removed. Please call set_channel() before reading or writing data using KnossosDataset.\n",
      "  warnings.warn('You are using implicit channel selection. This possibility will soon be removed.'\n"
     ]
    },
    {
     "name": "stdout",
     "output_type": "stream",
     "text": [
      "Progress: finished\n",
      "Speed: 32.368 MB or MPix /s, time 0.5183298587799072\n"
     ]
    }
   ],
   "source": [
    "knossos_cube = '/media/Trantor2/data_raf/2018_04_03_WholeBrainMRI1_retake_newfocus/recon_flatcorr_1x/recon_crop8_new_knossos/mag1/knossos.conf'\n",
    "\n",
    "#knossos_anno = '/media/Trantor2/data_katrina/KN_WholeBrainMRI1_skeleton&seg/annotation-20181108T1119.129.k.zip'\n",
    "\n",
    "mag = 1\n",
    "kd = knossosdataset.KnossosDataset()\n",
    "kd.initialize_from_knossos_path(knossos_cube)\n",
    "\n",
    "box_size = [256, 256, 256]\n",
    "box_offset = [ 5000,5000,1598]\n",
    "\n",
    "cube = kd.from_raw_cubes_to_matrix(\n",
    "  size=box_size, \n",
    "  offset=box_offset)\n",
    "#anno = kd.from_kzip_to_matrix(\n",
    "#  path=knossos_anno,\n",
    "#  size=box_size,\n",
    "#  offset=box_offset,\n",
    "#  mag=mag, \n",
    "#  verbose=False)\n",
    "\n",
    "\n",
    "\n"
   ]
  },
  {
   "cell_type": "code",
   "execution_count": 31,
   "metadata": {},
   "outputs": [],
   "source": [
    "#ids = np.unique(anno[...])"
   ]
  },
  {
   "cell_type": "code",
   "execution_count": 32,
   "metadata": {},
   "outputs": [
    {
     "name": "stdout",
     "output_type": "stream",
     "text": [
      "(256, 256, 256) uint8\n"
     ]
    }
   ],
   "source": [
    "print(cube.shape, cube.dtype)\n",
    "#print(anno.shape, anno.dtype)\n",
    "\n"
   ]
  },
  {
   "cell_type": "code",
   "execution_count": null,
   "metadata": {},
   "outputs": [],
   "source": []
  },
  {
   "cell_type": "code",
   "execution_count": null,
   "metadata": {},
   "outputs": [],
   "source": []
  },
  {
   "cell_type": "code",
   "execution_count": 33,
   "metadata": {},
   "outputs": [
    {
     "name": "stdout",
     "output_type": "stream",
     "text": [
      "(256, 256, 256) uint8\n",
      "http://127.0.0.1:43647/v/9ea794f5b664d6a5090de3f8842eecd446bd19b2/\n"
     ]
    }
   ],
   "source": [
    "print(cube.shape, cube.dtype)\n",
    "viewer = neuroglancer.Viewer()\n",
    "with viewer.txn() as s:\n",
    "#   s.voxel_size = (600, 600, 600)\n",
    "  s.layers['image'] = neuroglancer.ImageLayer(\n",
    "    source=neuroglancer.LocalVolume(data=cube, volume_type='image'))  \n",
    "print(viewer.get_viewer_url())"
   ]
  },
  {
   "cell_type": "code",
   "execution_count": 34,
   "metadata": {},
   "outputs": [],
   "source": [
    "del viewer"
   ]
  },
  {
   "cell_type": "code",
   "execution_count": 8,
   "metadata": {},
   "outputs": [],
   "source": []
  },
  {
   "cell_type": "code",
   "execution_count": 36,
   "metadata": {},
   "outputs": [
    {
     "data": {
      "text/plain": [
       "'/home/ravescovi/Documents/workspace/KLab-Utils/notebooks'"
      ]
     },
     "execution_count": 36,
     "metadata": {},
     "output_type": "execute_result"
    }
   ],
   "source": [
    "os.getcwd()"
   ]
  },
  {
   "cell_type": "code",
   "execution_count": 38,
   "metadata": {},
   "outputs": [
    {
     "data": {
      "text/plain": [
       "'/media/Trantor2/Public/wholebrain_ffn'"
      ]
     },
     "execution_count": 38,
     "metadata": {},
     "output_type": "execute_result"
    }
   ],
   "source": [
    "\n",
    "os.chdir('/media/Trantor2/Public/wholebrain_ffn')\n",
    "\n",
    "os.getcwd()"
   ]
  },
  {
   "cell_type": "code",
   "execution_count": 39,
   "metadata": {},
   "outputs": [],
   "source": [
    "dxchange.write_tiff_stack(cube,'cube/cube')"
   ]
  },
  {
   "cell_type": "code",
   "execution_count": 39,
   "metadata": {},
   "outputs": [],
   "source": [
    "anno2 = anno.astype('uint8')\n",
    "dxchange.write_tiff_stack(anno2,'anno/anno')"
   ]
  },
  {
   "cell_type": "code",
   "execution_count": null,
   "metadata": {},
   "outputs": [],
   "source": []
  },
  {
   "cell_type": "code",
   "execution_count": null,
   "metadata": {},
   "outputs": [],
   "source": [
    "skeletons = neuroglancer.skeleton.Skeleton(\n",
    "  vertex_positions=np.random.randint(0,1000, size=(100,3)),\n",
    "  edges=[(i,j) for i,j in zip(range(0,99),range(1,100))]\n",
    ")\n",
    "voxel_size = np.array([10,10,10])\n",
    "class SkeletonSource(neuroglancer.skeleton.SkeletonSource):\n",
    "    def __init__(self):\n",
    "        super(SkeletonSource, self).__init__()\n",
    "        self.vertex_attributes['affinity'] = neuroglancer.skeleton.VertexAttributeInfo(\n",
    "            data_type=np.float32,\n",
    "            num_components=1,\n",
    "        )\n",
    "        self.vertex_attributes['affinity2'] = neuroglancer.skeleton.VertexAttributeInfo(\n",
    "            data_type=np.float32,\n",
    "            num_components=1,\n",
    "        )\n",
    "\n",
    "    def get_skeleton(self, i):\n",
    "        pos = np.unravel_index(i, shape, order='C')[::-1]\n",
    "#         vertex_positions = [pos * voxel_size, pos * voxel_size + np.random.randn(3) * 1000]\n",
    "        vertex_positions=np.random.randint(0,1000, size=(100,3))\n",
    "        edges=[(i,j) for i,j in zip(range(0,99),range(1,100))]\n",
    "        \n",
    "#         edges = [0, 1]\n",
    "        return neuroglancer.skeleton.Skeleton(\n",
    "            vertex_positions=vertex_positions,\n",
    "            edges=edges,\n",
    "            vertex_attributes=dict(affinity=np.random.rand(2), affinity2=np.random.rand(2)))\n"
   ]
  }
 ],
 "metadata": {
  "kernelspec": {
   "display_name": "Python 3",
   "language": "python",
   "name": "python3"
  },
  "language_info": {
   "codemirror_mode": {
    "name": "ipython",
    "version": 3
   },
   "file_extension": ".py",
   "mimetype": "text/x-python",
   "name": "python",
   "nbconvert_exporter": "python",
   "pygments_lexer": "ipython3",
   "version": "3.7.0"
  }
 },
 "nbformat": 4,
 "nbformat_minor": 2
}
