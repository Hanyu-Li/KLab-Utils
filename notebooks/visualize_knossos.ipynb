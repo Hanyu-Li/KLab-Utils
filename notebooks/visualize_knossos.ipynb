{
 "cells": [
  {
   "cell_type": "code",
   "execution_count": 1,
   "metadata": {},
   "outputs": [],
   "source": [
    "from knossos_utils import knossosdataset, skeleton\n",
    "import matplotlib.pyplot as plt\n",
    "import numpy as np\n",
    "import neuroglancer\n",
    "%matplotlib notebook"
   ]
  },
  {
   "cell_type": "code",
   "execution_count": 2,
   "metadata": {},
   "outputs": [
    {
     "name": "stderr",
     "output_type": "stream",
     "text": [
      "/home/hanyu/anaconda2/envs/py36/lib/python3.6/site-packages/knossos_utils/knossosdataset.py:1087: UserWarning: You are using implicit channel selection. This possibility will soon be removed. Please call set_channel() before reading or writing data using KnossosDataset.\n",
      "  warnings.warn('You are using implicit channel selection. This possibility will soon be removed.'\n"
     ]
    },
    {
     "name": "stdout",
     "output_type": "stream",
     "text": [
      "Progress: finished\n",
      "Speed: 1081.620 MB or MPix /s, time 0.9245390892028809\n",
      "Progress: 100.00%\n",
      "\n"
     ]
    }
   ],
   "source": [
    "knossos_cube = '/media/disk_trantor_2/data_raf/2018_04_03_WholeBrainMRI1_retake_newfocus/recon_flatcorr_1x/recon_crop8_new_knossos/mag1/knossos.conf'\n",
    "# knossos_anno = '/home/hanyu/Trantor_2/data_katrina/test_space/annotation-20181106T1033.000.k.zip'\n",
    "# knossos_anno = '/media/disk_trantor_2/data_katrina/KN_recon_dendrites/annotation-20181011T1135.269.k.zip'\n",
    "knossos_anno = '/media/disk_trantor_2/data_katrina/KN_WholeBrainMRI1_skeleton&seg/annotation-20181108T1119.129.k.zip'\n",
    "mag = 1\n",
    "kd = knossosdataset.KnossosDataset()\n",
    "kd.initialize_from_knossos_path(knossos_cube)\n",
    "\n",
    "box_size = [1000, 1000, 1000]\n",
    "box_offset = [4000, 4000, 4000]\n",
    "\n",
    "cube = kd.from_raw_cubes_to_matrix(\n",
    "  size=box_size, \n",
    "  offset=box_offset)\n",
    "anno = kd.from_kzip_to_matrix(\n",
    "  path=knossos_anno,\n",
    "  size=box_size,\n",
    "  offset=box_offset,\n",
    "  mag=mag, \n",
    "  verbose=False)\n",
    "\n",
    "\n",
    "\n"
   ]
  },
  {
   "cell_type": "code",
   "execution_count": 3,
   "metadata": {},
   "outputs": [],
   "source": [
    "ids = np.unique(anno[...])"
   ]
  },
  {
   "cell_type": "code",
   "execution_count": 16,
   "metadata": {},
   "outputs": [
    {
     "name": "stdout",
     "output_type": "stream",
     "text": [
      "(1000, 1000, 1000) uint8\n",
      "(1000, 1000, 1000) uint64\n"
     ]
    }
   ],
   "source": [
    "print(cube.shape, cube.dtype)\n",
    "print(anno.shape, anno.dtype)\n",
    "\n"
   ]
  },
  {
   "cell_type": "code",
   "execution_count": 15,
   "metadata": {},
   "outputs": [],
   "source": [
    "skeletons = neuroglancer.skeleton.Skeleton(\n",
    "  vertex_positions=np.random.randint(0,1000, size=(100,3)),\n",
    "  edges=[(i,j) for i,j in zip(range(0,99),range(1,100))]\n",
    ")\n",
    "voxel_size = np.array([10,10,10])\n",
    "class SkeletonSource(neuroglancer.skeleton.SkeletonSource):\n",
    "    def __init__(self):\n",
    "        super(SkeletonSource, self).__init__()\n",
    "        self.vertex_attributes['affinity'] = neuroglancer.skeleton.VertexAttributeInfo(\n",
    "            data_type=np.float32,\n",
    "            num_components=1,\n",
    "        )\n",
    "        self.vertex_attributes['affinity2'] = neuroglancer.skeleton.VertexAttributeInfo(\n",
    "            data_type=np.float32,\n",
    "            num_components=1,\n",
    "        )\n",
    "\n",
    "    def get_skeleton(self, i):\n",
    "        pos = np.unravel_index(i, shape, order='C')[::-1]\n",
    "#         vertex_positions = [pos * voxel_size, pos * voxel_size + np.random.randn(3) * 1000]\n",
    "        vertex_positions=np.random.randint(0,1000, size=(100,3))\n",
    "        edges=[(i,j) for i,j in zip(range(0,99),range(1,100))]\n",
    "        \n",
    "#         edges = [0, 1]\n",
    "        return neuroglancer.skeleton.Skeleton(\n",
    "            vertex_positions=vertex_positions,\n",
    "            edges=edges,\n",
    "            vertex_attributes=dict(affinity=np.random.rand(2), affinity2=np.random.rand(2)))\n"
   ]
  },
  {
   "cell_type": "code",
   "execution_count": 16,
   "metadata": {},
   "outputs": [
    {
     "name": "stdout",
     "output_type": "stream",
     "text": [
      "<neuroglancer.skeleton.Skeleton object at 0x7f8790e7a208>\n"
     ]
    }
   ],
   "source": [
    "print(skeletons)"
   ]
  },
  {
   "cell_type": "code",
   "execution_count": 17,
   "metadata": {},
   "outputs": [
    {
     "name": "stdout",
     "output_type": "stream",
     "text": [
      "(1000, 1000, 1000) uint8\n",
      "(1000, 1000, 1000) uint64\n",
      "http://127.0.0.1:35581/v/5d8450542d4891d8bbbb64b1fdb187d2aa48c2e0/\n"
     ]
    }
   ],
   "source": [
    "print(cube.shape, cube.dtype)\n",
    "print(anno.shape, anno.dtype)\n",
    "viewer = neuroglancer.Viewer()\n",
    "with viewer.txn() as s:\n",
    "#   s.voxel_size = (600, 600, 600)\n",
    "  s.layers['image'] = neuroglancer.ImageLayer(\n",
    "    source=neuroglancer.LocalVolume(data=cube, volume_type='image'))\n",
    "  s.layers['segmentation'] = neuroglancer.SegmentationLayer(\n",
    "    source=neuroglancer.LocalVolume(data=anno, volume_type='segmentation', mesh_options={'max_quadrics_error':-1e-5}),\n",
    "    segments=ids)\n",
    "  s.layers['skeletons'] = neuroglancer.SegmentationLayer(\n",
    "    source=neuroglancer.LocalVolume(data=anno, skeletons=SkeletonSource()),\n",
    "    skeleton_shader='void main() { emitRGB(colormapJet(affinity)); }',\n",
    "    selected_alpha=0,\n",
    "    not_selected_alpha=0,\n",
    "    segments=range(0,100)\n",
    "  )\n",
    "  \n",
    "print(viewer.get_viewer_url())"
   ]
  },
  {
   "cell_type": "code",
   "execution_count": 14,
   "metadata": {},
   "outputs": [
    {
     "ename": "NameError",
     "evalue": "name 'viewer' is not defined",
     "output_type": "error",
     "traceback": [
      "\u001b[0;31m---------------------------------------------------------------------------\u001b[0m",
      "\u001b[0;31mNameError\u001b[0m                                 Traceback (most recent call last)",
      "\u001b[0;32m<ipython-input-14-fd19ba7e6525>\u001b[0m in \u001b[0;36m<module>\u001b[0;34m\u001b[0m\n\u001b[0;32m----> 1\u001b[0;31m \u001b[0;32mdel\u001b[0m \u001b[0mviewer\u001b[0m\u001b[0;34m\u001b[0m\u001b[0;34m\u001b[0m\u001b[0m\n\u001b[0m",
      "\u001b[0;31mNameError\u001b[0m: name 'viewer' is not defined"
     ]
    }
   ],
   "source": [
    "del viewer"
   ]
  },
  {
   "cell_type": "code",
   "execution_count": 8,
   "metadata": {},
   "outputs": [],
   "source": [
    "import os"
   ]
  },
  {
   "cell_type": "code",
   "execution_count": 9,
   "metadata": {},
   "outputs": [
    {
     "data": {
      "text/plain": [
       "'/home/hanyu/workspace/KLab_Utils/notebooks'"
      ]
     },
     "execution_count": 9,
     "metadata": {},
     "output_type": "execute_result"
    }
   ],
   "source": [
    "import dxchange\n",
    "os.getcwd()"
   ]
  },
  {
   "cell_type": "code",
   "execution_count": 37,
   "metadata": {},
   "outputs": [
    {
     "data": {
      "text/plain": [
       "'/home/hanyu/workspace/KLab_Utils/bkmovie_test'"
      ]
     },
     "execution_count": 37,
     "metadata": {},
     "output_type": "execute_result"
    }
   ],
   "source": [
    "\n",
    "os.chdir('/home/hanyu/workspace/KLab_Utils')\n",
    "os.mkdir('bkmovie_test')\n",
    "os.chdir('bkmovie_test')\n",
    "os.getcwd()"
   ]
  },
  {
   "cell_type": "code",
   "execution_count": 38,
   "metadata": {},
   "outputs": [],
   "source": [
    "dxchange.write_tiff_stack(cube,'cube/cube')"
   ]
  },
  {
   "cell_type": "code",
   "execution_count": 39,
   "metadata": {},
   "outputs": [],
   "source": [
    "anno2 = anno.astype('uint8')\n",
    "dxchange.write_tiff_stack(anno2,'anno/anno')"
   ]
  },
  {
   "cell_type": "code",
   "execution_count": 40,
   "metadata": {},
   "outputs": [
    {
     "data": {
      "text/plain": [
       "'/home/hanyu/workspace/KLab_Utils/bkmovie_test'"
      ]
     },
     "execution_count": 40,
     "metadata": {},
     "output_type": "execute_result"
    },
    {
     "name": "stderr",
     "output_type": "stream",
     "text": [
      "ERROR:tornado.general:Uncaught exception, closing connection.\n",
      "Traceback (most recent call last):\n",
      "  File \"/home/hanyu/anaconda2/envs/py36/lib/python3.6/site-packages/tornado/iostream.py\", line 713, in _handle_events\n",
      "    self._handle_write()\n",
      "  File \"/home/hanyu/anaconda2/envs/py36/lib/python3.6/site-packages/tornado/iostream.py\", line 1063, in _handle_write\n",
      "    self._write_buffer.advance(num_bytes)\n",
      "  File \"/home/hanyu/anaconda2/envs/py36/lib/python3.6/site-packages/tornado/iostream.py\", line 184, in advance\n",
      "    assert 0 < size <= self._size\n",
      "AssertionError\n",
      "ERROR:asyncio:Exception in callback None()\n",
      "handle: <Handle cancelled>\n",
      "Traceback (most recent call last):\n",
      "  File \"/home/hanyu/anaconda2/envs/py36/lib/python3.6/asyncio/events.py\", line 145, in _run\n",
      "    self._callback(*self._args)\n",
      "  File \"/home/hanyu/anaconda2/envs/py36/lib/python3.6/site-packages/tornado/platform/asyncio.py\", line 122, in _handle_events\n",
      "    handler_func(fileobj, events)\n",
      "  File \"/home/hanyu/anaconda2/envs/py36/lib/python3.6/site-packages/tornado/stack_context.py\", line 300, in null_wrapper\n",
      "    return fn(*args, **kwargs)\n",
      "  File \"/home/hanyu/anaconda2/envs/py36/lib/python3.6/site-packages/tornado/iostream.py\", line 713, in _handle_events\n",
      "    self._handle_write()\n",
      "  File \"/home/hanyu/anaconda2/envs/py36/lib/python3.6/site-packages/tornado/iostream.py\", line 1063, in _handle_write\n",
      "    self._write_buffer.advance(num_bytes)\n",
      "  File \"/home/hanyu/anaconda2/envs/py36/lib/python3.6/site-packages/tornado/iostream.py\", line 184, in advance\n",
      "    assert 0 < size <= self._size\n",
      "AssertionError\n",
      "ERROR:tornado.application:Exception in callback functools.partial(<function wrap.<locals>.null_wrapper at 0x7fa532a96ea0>)\n",
      "Traceback (most recent call last):\n",
      "  File \"/home/hanyu/anaconda2/envs/py36/lib/python3.6/site-packages/tornado/ioloop.py\", line 758, in _run_callback\n",
      "    ret = callback()\n",
      "  File \"/home/hanyu/anaconda2/envs/py36/lib/python3.6/site-packages/tornado/stack_context.py\", line 300, in null_wrapper\n",
      "    return fn(*args, **kwargs)\n",
      "  File \"/home/hanyu/anaconda2/envs/py36/lib/python3.6/site-packages/neuroglancer/server.py\", line 159, in <lambda>\n",
      "    lambda f: self.server.ioloop.add_callback(lambda: handle_subvolume_result(f)))\n",
      "  File \"/home/hanyu/anaconda2/envs/py36/lib/python3.6/site-packages/neuroglancer/server.py\", line 154, in handle_subvolume_result\n",
      "    self.finish(data)\n",
      "  File \"/home/hanyu/anaconda2/envs/py36/lib/python3.6/site-packages/tornado/web.py\", line 1052, in finish\n",
      "    future = self.flush(include_footers=True)\n",
      "  File \"/home/hanyu/anaconda2/envs/py36/lib/python3.6/site-packages/tornado/web.py\", line 994, in flush\n",
      "    start_line, self._headers, chunk, callback=callback)\n",
      "  File \"/home/hanyu/anaconda2/envs/py36/lib/python3.6/site-packages/tornado/http1connection.py\", line 413, in write_headers\n",
      "    self._pending_write = self.stream.write(data)\n",
      "  File \"/home/hanyu/anaconda2/envs/py36/lib/python3.6/site-packages/tornado/iostream.py\", line 587, in write\n",
      "    self._handle_write()\n",
      "  File \"/home/hanyu/anaconda2/envs/py36/lib/python3.6/site-packages/tornado/iostream.py\", line 1063, in _handle_write\n",
      "    self._write_buffer.advance(num_bytes)\n",
      "  File \"/home/hanyu/anaconda2/envs/py36/lib/python3.6/site-packages/tornado/iostream.py\", line 184, in advance\n",
      "    assert 0 < size <= self._size\n",
      "AssertionError\n",
      "ERROR:tornado.general:Uncaught exception, closing connection.\n",
      "Traceback (most recent call last):\n",
      "  File \"/home/hanyu/anaconda2/envs/py36/lib/python3.6/site-packages/tornado/iostream.py\", line 713, in _handle_events\n",
      "    self._handle_write()\n",
      "  File \"/home/hanyu/anaconda2/envs/py36/lib/python3.6/site-packages/tornado/iostream.py\", line 1063, in _handle_write\n",
      "    self._write_buffer.advance(num_bytes)\n",
      "  File \"/home/hanyu/anaconda2/envs/py36/lib/python3.6/site-packages/tornado/iostream.py\", line 184, in advance\n",
      "    assert 0 < size <= self._size\n",
      "AssertionError\n",
      "ERROR:asyncio:Exception in callback None()\n",
      "handle: <Handle cancelled>\n",
      "Traceback (most recent call last):\n",
      "  File \"/home/hanyu/anaconda2/envs/py36/lib/python3.6/asyncio/events.py\", line 145, in _run\n",
      "    self._callback(*self._args)\n",
      "  File \"/home/hanyu/anaconda2/envs/py36/lib/python3.6/site-packages/tornado/platform/asyncio.py\", line 122, in _handle_events\n",
      "    handler_func(fileobj, events)\n",
      "  File \"/home/hanyu/anaconda2/envs/py36/lib/python3.6/site-packages/tornado/stack_context.py\", line 300, in null_wrapper\n",
      "    return fn(*args, **kwargs)\n",
      "  File \"/home/hanyu/anaconda2/envs/py36/lib/python3.6/site-packages/tornado/iostream.py\", line 713, in _handle_events\n",
      "    self._handle_write()\n",
      "  File \"/home/hanyu/anaconda2/envs/py36/lib/python3.6/site-packages/tornado/iostream.py\", line 1063, in _handle_write\n",
      "    self._write_buffer.advance(num_bytes)\n",
      "  File \"/home/hanyu/anaconda2/envs/py36/lib/python3.6/site-packages/tornado/iostream.py\", line 184, in advance\n",
      "    assert 0 < size <= self._size\n",
      "AssertionError\n",
      "ERROR:tornado.general:Uncaught exception, closing connection.\n",
      "Traceback (most recent call last):\n",
      "  File \"/home/hanyu/anaconda2/envs/py36/lib/python3.6/site-packages/tornado/iostream.py\", line 713, in _handle_events\n",
      "    self._handle_write()\n",
      "  File \"/home/hanyu/anaconda2/envs/py36/lib/python3.6/site-packages/tornado/iostream.py\", line 1063, in _handle_write\n",
      "    self._write_buffer.advance(num_bytes)\n",
      "  File \"/home/hanyu/anaconda2/envs/py36/lib/python3.6/site-packages/tornado/iostream.py\", line 184, in advance\n",
      "    assert 0 < size <= self._size\n",
      "AssertionError\n",
      "ERROR:asyncio:Exception in callback None()\n",
      "handle: <Handle cancelled>\n",
      "Traceback (most recent call last):\n",
      "  File \"/home/hanyu/anaconda2/envs/py36/lib/python3.6/asyncio/events.py\", line 145, in _run\n",
      "    self._callback(*self._args)\n",
      "  File \"/home/hanyu/anaconda2/envs/py36/lib/python3.6/site-packages/tornado/platform/asyncio.py\", line 122, in _handle_events\n",
      "    handler_func(fileobj, events)\n",
      "  File \"/home/hanyu/anaconda2/envs/py36/lib/python3.6/site-packages/tornado/stack_context.py\", line 300, in null_wrapper\n",
      "    return fn(*args, **kwargs)\n",
      "  File \"/home/hanyu/anaconda2/envs/py36/lib/python3.6/site-packages/tornado/iostream.py\", line 713, in _handle_events\n",
      "    self._handle_write()\n",
      "  File \"/home/hanyu/anaconda2/envs/py36/lib/python3.6/site-packages/tornado/iostream.py\", line 1063, in _handle_write\n",
      "    self._write_buffer.advance(num_bytes)\n",
      "  File \"/home/hanyu/anaconda2/envs/py36/lib/python3.6/site-packages/tornado/iostream.py\", line 184, in advance\n",
      "    assert 0 < size <= self._size\n",
      "AssertionError\n",
      "ERROR:tornado.general:Uncaught exception, closing connection.\n",
      "Traceback (most recent call last):\n",
      "  File \"/home/hanyu/anaconda2/envs/py36/lib/python3.6/site-packages/tornado/iostream.py\", line 713, in _handle_events\n",
      "    self._handle_write()\n",
      "  File \"/home/hanyu/anaconda2/envs/py36/lib/python3.6/site-packages/tornado/iostream.py\", line 1063, in _handle_write\n",
      "    self._write_buffer.advance(num_bytes)\n",
      "  File \"/home/hanyu/anaconda2/envs/py36/lib/python3.6/site-packages/tornado/iostream.py\", line 184, in advance\n",
      "    assert 0 < size <= self._size\n",
      "AssertionError\n",
      "ERROR:asyncio:Exception in callback None()\n",
      "handle: <Handle cancelled>\n",
      "Traceback (most recent call last):\n",
      "  File \"/home/hanyu/anaconda2/envs/py36/lib/python3.6/asyncio/events.py\", line 145, in _run\n",
      "    self._callback(*self._args)\n",
      "  File \"/home/hanyu/anaconda2/envs/py36/lib/python3.6/site-packages/tornado/platform/asyncio.py\", line 122, in _handle_events\n",
      "    handler_func(fileobj, events)\n",
      "  File \"/home/hanyu/anaconda2/envs/py36/lib/python3.6/site-packages/tornado/stack_context.py\", line 300, in null_wrapper\n",
      "    return fn(*args, **kwargs)\n",
      "  File \"/home/hanyu/anaconda2/envs/py36/lib/python3.6/site-packages/tornado/iostream.py\", line 713, in _handle_events\n",
      "    self._handle_write()\n",
      "  File \"/home/hanyu/anaconda2/envs/py36/lib/python3.6/site-packages/tornado/iostream.py\", line 1063, in _handle_write\n",
      "    self._write_buffer.advance(num_bytes)\n",
      "  File \"/home/hanyu/anaconda2/envs/py36/lib/python3.6/site-packages/tornado/iostream.py\", line 184, in advance\n",
      "    assert 0 < size <= self._size\n",
      "AssertionError\n",
      "ERROR:tornado.general:Uncaught exception, closing connection.\n",
      "Traceback (most recent call last):\n",
      "  File \"/home/hanyu/anaconda2/envs/py36/lib/python3.6/site-packages/tornado/iostream.py\", line 713, in _handle_events\n",
      "    self._handle_write()\n",
      "  File \"/home/hanyu/anaconda2/envs/py36/lib/python3.6/site-packages/tornado/iostream.py\", line 1063, in _handle_write\n",
      "    self._write_buffer.advance(num_bytes)\n",
      "  File \"/home/hanyu/anaconda2/envs/py36/lib/python3.6/site-packages/tornado/iostream.py\", line 184, in advance\n",
      "    assert 0 < size <= self._size\n",
      "AssertionError\n"
     ]
    },
    {
     "name": "stderr",
     "output_type": "stream",
     "text": [
      "ERROR:asyncio:Exception in callback None()\n",
      "handle: <Handle cancelled>\n",
      "Traceback (most recent call last):\n",
      "  File \"/home/hanyu/anaconda2/envs/py36/lib/python3.6/asyncio/events.py\", line 145, in _run\n",
      "    self._callback(*self._args)\n",
      "  File \"/home/hanyu/anaconda2/envs/py36/lib/python3.6/site-packages/tornado/platform/asyncio.py\", line 122, in _handle_events\n",
      "    handler_func(fileobj, events)\n",
      "  File \"/home/hanyu/anaconda2/envs/py36/lib/python3.6/site-packages/tornado/stack_context.py\", line 300, in null_wrapper\n",
      "    return fn(*args, **kwargs)\n",
      "  File \"/home/hanyu/anaconda2/envs/py36/lib/python3.6/site-packages/tornado/iostream.py\", line 713, in _handle_events\n",
      "    self._handle_write()\n",
      "  File \"/home/hanyu/anaconda2/envs/py36/lib/python3.6/site-packages/tornado/iostream.py\", line 1063, in _handle_write\n",
      "    self._write_buffer.advance(num_bytes)\n",
      "  File \"/home/hanyu/anaconda2/envs/py36/lib/python3.6/site-packages/tornado/iostream.py\", line 184, in advance\n",
      "    assert 0 < size <= self._size\n",
      "AssertionError\n",
      "ERROR:tornado.general:Uncaught exception, closing connection.\n",
      "Traceback (most recent call last):\n",
      "  File \"/home/hanyu/anaconda2/envs/py36/lib/python3.6/site-packages/tornado/iostream.py\", line 713, in _handle_events\n",
      "    self._handle_write()\n",
      "  File \"/home/hanyu/anaconda2/envs/py36/lib/python3.6/site-packages/tornado/iostream.py\", line 1063, in _handle_write\n",
      "    self._write_buffer.advance(num_bytes)\n",
      "  File \"/home/hanyu/anaconda2/envs/py36/lib/python3.6/site-packages/tornado/iostream.py\", line 184, in advance\n",
      "    assert 0 < size <= self._size\n",
      "AssertionError\n",
      "ERROR:asyncio:Exception in callback None()\n",
      "handle: <Handle cancelled>\n",
      "Traceback (most recent call last):\n",
      "  File \"/home/hanyu/anaconda2/envs/py36/lib/python3.6/asyncio/events.py\", line 145, in _run\n",
      "    self._callback(*self._args)\n",
      "  File \"/home/hanyu/anaconda2/envs/py36/lib/python3.6/site-packages/tornado/platform/asyncio.py\", line 122, in _handle_events\n",
      "    handler_func(fileobj, events)\n",
      "  File \"/home/hanyu/anaconda2/envs/py36/lib/python3.6/site-packages/tornado/stack_context.py\", line 300, in null_wrapper\n",
      "    return fn(*args, **kwargs)\n",
      "  File \"/home/hanyu/anaconda2/envs/py36/lib/python3.6/site-packages/tornado/iostream.py\", line 713, in _handle_events\n",
      "    self._handle_write()\n",
      "  File \"/home/hanyu/anaconda2/envs/py36/lib/python3.6/site-packages/tornado/iostream.py\", line 1063, in _handle_write\n",
      "    self._write_buffer.advance(num_bytes)\n",
      "  File \"/home/hanyu/anaconda2/envs/py36/lib/python3.6/site-packages/tornado/iostream.py\", line 184, in advance\n",
      "    assert 0 < size <= self._size\n",
      "AssertionError\n",
      "ERROR:tornado.general:Uncaught exception, closing connection.\n",
      "Traceback (most recent call last):\n",
      "  File \"/home/hanyu/anaconda2/envs/py36/lib/python3.6/site-packages/tornado/iostream.py\", line 713, in _handle_events\n",
      "    self._handle_write()\n",
      "  File \"/home/hanyu/anaconda2/envs/py36/lib/python3.6/site-packages/tornado/iostream.py\", line 1063, in _handle_write\n",
      "    self._write_buffer.advance(num_bytes)\n",
      "  File \"/home/hanyu/anaconda2/envs/py36/lib/python3.6/site-packages/tornado/iostream.py\", line 184, in advance\n",
      "    assert 0 < size <= self._size\n",
      "AssertionError\n",
      "ERROR:asyncio:Exception in callback None()\n",
      "handle: <Handle cancelled>\n",
      "Traceback (most recent call last):\n",
      "  File \"/home/hanyu/anaconda2/envs/py36/lib/python3.6/asyncio/events.py\", line 145, in _run\n",
      "    self._callback(*self._args)\n",
      "  File \"/home/hanyu/anaconda2/envs/py36/lib/python3.6/site-packages/tornado/platform/asyncio.py\", line 122, in _handle_events\n",
      "    handler_func(fileobj, events)\n",
      "  File \"/home/hanyu/anaconda2/envs/py36/lib/python3.6/site-packages/tornado/stack_context.py\", line 300, in null_wrapper\n",
      "    return fn(*args, **kwargs)\n",
      "  File \"/home/hanyu/anaconda2/envs/py36/lib/python3.6/site-packages/tornado/iostream.py\", line 713, in _handle_events\n",
      "    self._handle_write()\n",
      "  File \"/home/hanyu/anaconda2/envs/py36/lib/python3.6/site-packages/tornado/iostream.py\", line 1063, in _handle_write\n",
      "    self._write_buffer.advance(num_bytes)\n",
      "  File \"/home/hanyu/anaconda2/envs/py36/lib/python3.6/site-packages/tornado/iostream.py\", line 184, in advance\n",
      "    assert 0 < size <= self._size\n",
      "AssertionError\n",
      "ERROR:tornado.general:Uncaught exception, closing connection.\n",
      "Traceback (most recent call last):\n",
      "  File \"/home/hanyu/anaconda2/envs/py36/lib/python3.6/site-packages/tornado/iostream.py\", line 713, in _handle_events\n",
      "    self._handle_write()\n",
      "  File \"/home/hanyu/anaconda2/envs/py36/lib/python3.6/site-packages/tornado/iostream.py\", line 1063, in _handle_write\n",
      "    self._write_buffer.advance(num_bytes)\n",
      "  File \"/home/hanyu/anaconda2/envs/py36/lib/python3.6/site-packages/tornado/iostream.py\", line 184, in advance\n",
      "    assert 0 < size <= self._size\n",
      "AssertionError\n",
      "ERROR:asyncio:Exception in callback None()\n",
      "handle: <Handle cancelled>\n",
      "Traceback (most recent call last):\n",
      "  File \"/home/hanyu/anaconda2/envs/py36/lib/python3.6/asyncio/events.py\", line 145, in _run\n",
      "    self._callback(*self._args)\n",
      "  File \"/home/hanyu/anaconda2/envs/py36/lib/python3.6/site-packages/tornado/platform/asyncio.py\", line 122, in _handle_events\n",
      "    handler_func(fileobj, events)\n",
      "  File \"/home/hanyu/anaconda2/envs/py36/lib/python3.6/site-packages/tornado/stack_context.py\", line 300, in null_wrapper\n",
      "    return fn(*args, **kwargs)\n",
      "  File \"/home/hanyu/anaconda2/envs/py36/lib/python3.6/site-packages/tornado/iostream.py\", line 713, in _handle_events\n",
      "    self._handle_write()\n",
      "  File \"/home/hanyu/anaconda2/envs/py36/lib/python3.6/site-packages/tornado/iostream.py\", line 1063, in _handle_write\n",
      "    self._write_buffer.advance(num_bytes)\n",
      "  File \"/home/hanyu/anaconda2/envs/py36/lib/python3.6/site-packages/tornado/iostream.py\", line 184, in advance\n",
      "    assert 0 < size <= self._size\n",
      "AssertionError\n",
      "ERROR:tornado.general:Uncaught exception, closing connection.\n",
      "Traceback (most recent call last):\n",
      "  File \"/home/hanyu/anaconda2/envs/py36/lib/python3.6/site-packages/tornado/iostream.py\", line 713, in _handle_events\n",
      "    self._handle_write()\n",
      "  File \"/home/hanyu/anaconda2/envs/py36/lib/python3.6/site-packages/tornado/iostream.py\", line 1063, in _handle_write\n",
      "    self._write_buffer.advance(num_bytes)\n",
      "  File \"/home/hanyu/anaconda2/envs/py36/lib/python3.6/site-packages/tornado/iostream.py\", line 184, in advance\n",
      "    assert 0 < size <= self._size\n",
      "AssertionError\n",
      "ERROR:asyncio:Exception in callback None()\n",
      "handle: <Handle cancelled>\n",
      "Traceback (most recent call last):\n",
      "  File \"/home/hanyu/anaconda2/envs/py36/lib/python3.6/asyncio/events.py\", line 145, in _run\n",
      "    self._callback(*self._args)\n",
      "  File \"/home/hanyu/anaconda2/envs/py36/lib/python3.6/site-packages/tornado/platform/asyncio.py\", line 122, in _handle_events\n",
      "    handler_func(fileobj, events)\n",
      "  File \"/home/hanyu/anaconda2/envs/py36/lib/python3.6/site-packages/tornado/stack_context.py\", line 300, in null_wrapper\n",
      "    return fn(*args, **kwargs)\n",
      "  File \"/home/hanyu/anaconda2/envs/py36/lib/python3.6/site-packages/tornado/iostream.py\", line 713, in _handle_events\n",
      "    self._handle_write()\n",
      "  File \"/home/hanyu/anaconda2/envs/py36/lib/python3.6/site-packages/tornado/iostream.py\", line 1063, in _handle_write\n",
      "    self._write_buffer.advance(num_bytes)\n",
      "  File \"/home/hanyu/anaconda2/envs/py36/lib/python3.6/site-packages/tornado/iostream.py\", line 184, in advance\n",
      "    assert 0 < size <= self._size\n",
      "AssertionError\n",
      "ERROR:tornado.general:Uncaught exception, closing connection.\n",
      "Traceback (most recent call last):\n",
      "  File \"/home/hanyu/anaconda2/envs/py36/lib/python3.6/site-packages/tornado/iostream.py\", line 713, in _handle_events\n",
      "    self._handle_write()\n",
      "  File \"/home/hanyu/anaconda2/envs/py36/lib/python3.6/site-packages/tornado/iostream.py\", line 1063, in _handle_write\n",
      "    self._write_buffer.advance(num_bytes)\n",
      "  File \"/home/hanyu/anaconda2/envs/py36/lib/python3.6/site-packages/tornado/iostream.py\", line 184, in advance\n",
      "    assert 0 < size <= self._size\n",
      "AssertionError\n",
      "ERROR:asyncio:Exception in callback None()\n",
      "handle: <Handle cancelled>\n",
      "Traceback (most recent call last):\n",
      "  File \"/home/hanyu/anaconda2/envs/py36/lib/python3.6/asyncio/events.py\", line 145, in _run\n",
      "    self._callback(*self._args)\n",
      "  File \"/home/hanyu/anaconda2/envs/py36/lib/python3.6/site-packages/tornado/platform/asyncio.py\", line 122, in _handle_events\n",
      "    handler_func(fileobj, events)\n",
      "  File \"/home/hanyu/anaconda2/envs/py36/lib/python3.6/site-packages/tornado/stack_context.py\", line 300, in null_wrapper\n",
      "    return fn(*args, **kwargs)\n",
      "  File \"/home/hanyu/anaconda2/envs/py36/lib/python3.6/site-packages/tornado/iostream.py\", line 713, in _handle_events\n",
      "    self._handle_write()\n",
      "  File \"/home/hanyu/anaconda2/envs/py36/lib/python3.6/site-packages/tornado/iostream.py\", line 1063, in _handle_write\n",
      "    self._write_buffer.advance(num_bytes)\n",
      "  File \"/home/hanyu/anaconda2/envs/py36/lib/python3.6/site-packages/tornado/iostream.py\", line 184, in advance\n",
      "    assert 0 < size <= self._size\n",
      "AssertionError\n"
     ]
    },
    {
     "name": "stderr",
     "output_type": "stream",
     "text": [
      "ERROR:tornado.general:Uncaught exception, closing connection.\n",
      "Traceback (most recent call last):\n",
      "  File \"/home/hanyu/anaconda2/envs/py36/lib/python3.6/site-packages/tornado/iostream.py\", line 713, in _handle_events\n",
      "    self._handle_write()\n",
      "  File \"/home/hanyu/anaconda2/envs/py36/lib/python3.6/site-packages/tornado/iostream.py\", line 1063, in _handle_write\n",
      "    self._write_buffer.advance(num_bytes)\n",
      "  File \"/home/hanyu/anaconda2/envs/py36/lib/python3.6/site-packages/tornado/iostream.py\", line 184, in advance\n",
      "    assert 0 < size <= self._size\n",
      "AssertionError\n",
      "ERROR:asyncio:Exception in callback None()\n",
      "handle: <Handle cancelled>\n",
      "Traceback (most recent call last):\n",
      "  File \"/home/hanyu/anaconda2/envs/py36/lib/python3.6/asyncio/events.py\", line 145, in _run\n",
      "    self._callback(*self._args)\n",
      "  File \"/home/hanyu/anaconda2/envs/py36/lib/python3.6/site-packages/tornado/platform/asyncio.py\", line 122, in _handle_events\n",
      "    handler_func(fileobj, events)\n",
      "  File \"/home/hanyu/anaconda2/envs/py36/lib/python3.6/site-packages/tornado/stack_context.py\", line 300, in null_wrapper\n",
      "    return fn(*args, **kwargs)\n",
      "  File \"/home/hanyu/anaconda2/envs/py36/lib/python3.6/site-packages/tornado/iostream.py\", line 713, in _handle_events\n",
      "    self._handle_write()\n",
      "  File \"/home/hanyu/anaconda2/envs/py36/lib/python3.6/site-packages/tornado/iostream.py\", line 1063, in _handle_write\n",
      "    self._write_buffer.advance(num_bytes)\n",
      "  File \"/home/hanyu/anaconda2/envs/py36/lib/python3.6/site-packages/tornado/iostream.py\", line 184, in advance\n",
      "    assert 0 < size <= self._size\n",
      "AssertionError\n",
      "ERROR:tornado.general:Uncaught exception, closing connection.\n",
      "Traceback (most recent call last):\n",
      "  File \"/home/hanyu/anaconda2/envs/py36/lib/python3.6/site-packages/tornado/iostream.py\", line 713, in _handle_events\n",
      "    self._handle_write()\n",
      "  File \"/home/hanyu/anaconda2/envs/py36/lib/python3.6/site-packages/tornado/iostream.py\", line 1063, in _handle_write\n",
      "    self._write_buffer.advance(num_bytes)\n",
      "  File \"/home/hanyu/anaconda2/envs/py36/lib/python3.6/site-packages/tornado/iostream.py\", line 184, in advance\n",
      "    assert 0 < size <= self._size\n",
      "AssertionError\n",
      "ERROR:asyncio:Exception in callback None()\n",
      "handle: <Handle cancelled>\n",
      "Traceback (most recent call last):\n",
      "  File \"/home/hanyu/anaconda2/envs/py36/lib/python3.6/asyncio/events.py\", line 145, in _run\n",
      "    self._callback(*self._args)\n",
      "  File \"/home/hanyu/anaconda2/envs/py36/lib/python3.6/site-packages/tornado/platform/asyncio.py\", line 122, in _handle_events\n",
      "    handler_func(fileobj, events)\n",
      "  File \"/home/hanyu/anaconda2/envs/py36/lib/python3.6/site-packages/tornado/stack_context.py\", line 300, in null_wrapper\n",
      "    return fn(*args, **kwargs)\n",
      "  File \"/home/hanyu/anaconda2/envs/py36/lib/python3.6/site-packages/tornado/iostream.py\", line 713, in _handle_events\n",
      "    self._handle_write()\n",
      "  File \"/home/hanyu/anaconda2/envs/py36/lib/python3.6/site-packages/tornado/iostream.py\", line 1063, in _handle_write\n",
      "    self._write_buffer.advance(num_bytes)\n",
      "  File \"/home/hanyu/anaconda2/envs/py36/lib/python3.6/site-packages/tornado/iostream.py\", line 184, in advance\n",
      "    assert 0 < size <= self._size\n",
      "AssertionError\n"
     ]
    }
   ],
   "source": [
    "os.getcwd()"
   ]
  },
  {
   "cell_type": "code",
   "execution_count": null,
   "metadata": {},
   "outputs": [],
   "source": []
  }
 ],
 "metadata": {
  "kernelspec": {
   "display_name": "Python 3",
   "language": "python",
   "name": "python3"
  },
  "language_info": {
   "codemirror_mode": {
    "name": "ipython",
    "version": 3
   },
   "file_extension": ".py",
   "mimetype": "text/x-python",
   "name": "python",
   "nbconvert_exporter": "python",
   "pygments_lexer": "ipython3",
   "version": "3.6.7"
  }
 },
 "nbformat": 4,
 "nbformat_minor": 2
}
